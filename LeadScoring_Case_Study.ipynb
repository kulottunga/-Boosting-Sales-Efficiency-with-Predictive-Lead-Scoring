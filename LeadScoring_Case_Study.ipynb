{
 "cells": [
  {
   "cell_type": "markdown",
   "id": "a92b78f5-f2d9-47b1-9549-9efc75c768c3",
   "metadata": {},
   "source": [
    "***Load and Inspect the Dataset***"
   ]
  },
  {
   "cell_type": "code",
   "execution_count": 3,
   "id": "e81c0e22-b423-4498-8163-031b2584b78c",
   "metadata": {},
   "outputs": [],
   "source": [
    "#Import Necessary Libraries\n",
    "import pandas as pd\n",
    "import numpy as np\n",
    "import matplotlib.pyplot as plt\n",
    "import seaborn as sns"
   ]
  },
  {
   "cell_type": "code",
   "execution_count": 11,
   "id": "abfab8f9-154f-4997-8c87-a5a765822985",
   "metadata": {},
   "outputs": [],
   "source": [
    "#Load the dataset\n",
    "df = pd.read_csv(\"Leads.csv\")"
   ]
  },
  {
   "cell_type": "code",
   "execution_count": 19,
   "id": "c549349a-0b09-48ea-95bf-66c55bff94c6",
   "metadata": {},
   "outputs": [
    {
     "data": {
      "text/html": [
       "<div>\n",
       "<style scoped>\n",
       "    .dataframe tbody tr th:only-of-type {\n",
       "        vertical-align: middle;\n",
       "    }\n",
       "\n",
       "    .dataframe tbody tr th {\n",
       "        vertical-align: top;\n",
       "    }\n",
       "\n",
       "    .dataframe thead th {\n",
       "        text-align: right;\n",
       "    }\n",
       "</style>\n",
       "<table border=\"1\" class=\"dataframe\">\n",
       "  <thead>\n",
       "    <tr style=\"text-align: right;\">\n",
       "      <th></th>\n",
       "      <th>Prospect ID</th>\n",
       "      <th>Lead Number</th>\n",
       "      <th>Lead Origin</th>\n",
       "      <th>Lead Source</th>\n",
       "      <th>Do Not Email</th>\n",
       "      <th>Do Not Call</th>\n",
       "      <th>Converted</th>\n",
       "      <th>TotalVisits</th>\n",
       "      <th>Total Time Spent on Website</th>\n",
       "      <th>Page Views Per Visit</th>\n",
       "      <th>...</th>\n",
       "      <th>Get updates on DM Content</th>\n",
       "      <th>Lead Profile</th>\n",
       "      <th>City</th>\n",
       "      <th>Asymmetrique Activity Index</th>\n",
       "      <th>Asymmetrique Profile Index</th>\n",
       "      <th>Asymmetrique Activity Score</th>\n",
       "      <th>Asymmetrique Profile Score</th>\n",
       "      <th>I agree to pay the amount through cheque</th>\n",
       "      <th>A free copy of Mastering The Interview</th>\n",
       "      <th>Last Notable Activity</th>\n",
       "    </tr>\n",
       "  </thead>\n",
       "  <tbody>\n",
       "    <tr>\n",
       "      <th>0</th>\n",
       "      <td>7927b2df-8bba-4d29-b9a2-b6e0beafe620</td>\n",
       "      <td>660737</td>\n",
       "      <td>API</td>\n",
       "      <td>Olark Chat</td>\n",
       "      <td>No</td>\n",
       "      <td>No</td>\n",
       "      <td>0</td>\n",
       "      <td>0.0</td>\n",
       "      <td>0</td>\n",
       "      <td>0.0</td>\n",
       "      <td>...</td>\n",
       "      <td>No</td>\n",
       "      <td>Select</td>\n",
       "      <td>Select</td>\n",
       "      <td>02.Medium</td>\n",
       "      <td>02.Medium</td>\n",
       "      <td>15.0</td>\n",
       "      <td>15.0</td>\n",
       "      <td>No</td>\n",
       "      <td>No</td>\n",
       "      <td>Modified</td>\n",
       "    </tr>\n",
       "    <tr>\n",
       "      <th>1</th>\n",
       "      <td>2a272436-5132-4136-86fa-dcc88c88f482</td>\n",
       "      <td>660728</td>\n",
       "      <td>API</td>\n",
       "      <td>Organic Search</td>\n",
       "      <td>No</td>\n",
       "      <td>No</td>\n",
       "      <td>0</td>\n",
       "      <td>5.0</td>\n",
       "      <td>674</td>\n",
       "      <td>2.5</td>\n",
       "      <td>...</td>\n",
       "      <td>No</td>\n",
       "      <td>Select</td>\n",
       "      <td>Select</td>\n",
       "      <td>02.Medium</td>\n",
       "      <td>02.Medium</td>\n",
       "      <td>15.0</td>\n",
       "      <td>15.0</td>\n",
       "      <td>No</td>\n",
       "      <td>No</td>\n",
       "      <td>Email Opened</td>\n",
       "    </tr>\n",
       "    <tr>\n",
       "      <th>2</th>\n",
       "      <td>8cc8c611-a219-4f35-ad23-fdfd2656bd8a</td>\n",
       "      <td>660727</td>\n",
       "      <td>Landing Page Submission</td>\n",
       "      <td>Direct Traffic</td>\n",
       "      <td>No</td>\n",
       "      <td>No</td>\n",
       "      <td>1</td>\n",
       "      <td>2.0</td>\n",
       "      <td>1532</td>\n",
       "      <td>2.0</td>\n",
       "      <td>...</td>\n",
       "      <td>No</td>\n",
       "      <td>Potential Lead</td>\n",
       "      <td>Mumbai</td>\n",
       "      <td>02.Medium</td>\n",
       "      <td>01.High</td>\n",
       "      <td>14.0</td>\n",
       "      <td>20.0</td>\n",
       "      <td>No</td>\n",
       "      <td>Yes</td>\n",
       "      <td>Email Opened</td>\n",
       "    </tr>\n",
       "    <tr>\n",
       "      <th>3</th>\n",
       "      <td>0cc2df48-7cf4-4e39-9de9-19797f9b38cc</td>\n",
       "      <td>660719</td>\n",
       "      <td>Landing Page Submission</td>\n",
       "      <td>Direct Traffic</td>\n",
       "      <td>No</td>\n",
       "      <td>No</td>\n",
       "      <td>0</td>\n",
       "      <td>1.0</td>\n",
       "      <td>305</td>\n",
       "      <td>1.0</td>\n",
       "      <td>...</td>\n",
       "      <td>No</td>\n",
       "      <td>Select</td>\n",
       "      <td>Mumbai</td>\n",
       "      <td>02.Medium</td>\n",
       "      <td>01.High</td>\n",
       "      <td>13.0</td>\n",
       "      <td>17.0</td>\n",
       "      <td>No</td>\n",
       "      <td>No</td>\n",
       "      <td>Modified</td>\n",
       "    </tr>\n",
       "    <tr>\n",
       "      <th>4</th>\n",
       "      <td>3256f628-e534-4826-9d63-4a8b88782852</td>\n",
       "      <td>660681</td>\n",
       "      <td>Landing Page Submission</td>\n",
       "      <td>Google</td>\n",
       "      <td>No</td>\n",
       "      <td>No</td>\n",
       "      <td>1</td>\n",
       "      <td>2.0</td>\n",
       "      <td>1428</td>\n",
       "      <td>1.0</td>\n",
       "      <td>...</td>\n",
       "      <td>No</td>\n",
       "      <td>Select</td>\n",
       "      <td>Mumbai</td>\n",
       "      <td>02.Medium</td>\n",
       "      <td>01.High</td>\n",
       "      <td>15.0</td>\n",
       "      <td>18.0</td>\n",
       "      <td>No</td>\n",
       "      <td>No</td>\n",
       "      <td>Modified</td>\n",
       "    </tr>\n",
       "  </tbody>\n",
       "</table>\n",
       "<p>5 rows × 37 columns</p>\n",
       "</div>"
      ],
      "text/plain": [
       "                            Prospect ID  Lead Number              Lead Origin  \\\n",
       "0  7927b2df-8bba-4d29-b9a2-b6e0beafe620       660737                      API   \n",
       "1  2a272436-5132-4136-86fa-dcc88c88f482       660728                      API   \n",
       "2  8cc8c611-a219-4f35-ad23-fdfd2656bd8a       660727  Landing Page Submission   \n",
       "3  0cc2df48-7cf4-4e39-9de9-19797f9b38cc       660719  Landing Page Submission   \n",
       "4  3256f628-e534-4826-9d63-4a8b88782852       660681  Landing Page Submission   \n",
       "\n",
       "      Lead Source Do Not Email Do Not Call  Converted  TotalVisits  \\\n",
       "0      Olark Chat           No          No          0          0.0   \n",
       "1  Organic Search           No          No          0          5.0   \n",
       "2  Direct Traffic           No          No          1          2.0   \n",
       "3  Direct Traffic           No          No          0          1.0   \n",
       "4          Google           No          No          1          2.0   \n",
       "\n",
       "   Total Time Spent on Website  Page Views Per Visit  ...  \\\n",
       "0                            0                   0.0  ...   \n",
       "1                          674                   2.5  ...   \n",
       "2                         1532                   2.0  ...   \n",
       "3                          305                   1.0  ...   \n",
       "4                         1428                   1.0  ...   \n",
       "\n",
       "  Get updates on DM Content    Lead Profile    City  \\\n",
       "0                        No          Select  Select   \n",
       "1                        No          Select  Select   \n",
       "2                        No  Potential Lead  Mumbai   \n",
       "3                        No          Select  Mumbai   \n",
       "4                        No          Select  Mumbai   \n",
       "\n",
       "  Asymmetrique Activity Index Asymmetrique Profile Index  \\\n",
       "0                   02.Medium                  02.Medium   \n",
       "1                   02.Medium                  02.Medium   \n",
       "2                   02.Medium                    01.High   \n",
       "3                   02.Medium                    01.High   \n",
       "4                   02.Medium                    01.High   \n",
       "\n",
       "  Asymmetrique Activity Score Asymmetrique Profile Score  \\\n",
       "0                        15.0                       15.0   \n",
       "1                        15.0                       15.0   \n",
       "2                        14.0                       20.0   \n",
       "3                        13.0                       17.0   \n",
       "4                        15.0                       18.0   \n",
       "\n",
       "  I agree to pay the amount through cheque  \\\n",
       "0                                       No   \n",
       "1                                       No   \n",
       "2                                       No   \n",
       "3                                       No   \n",
       "4                                       No   \n",
       "\n",
       "  A free copy of Mastering The Interview Last Notable Activity  \n",
       "0                                     No              Modified  \n",
       "1                                     No          Email Opened  \n",
       "2                                    Yes          Email Opened  \n",
       "3                                     No              Modified  \n",
       "4                                     No              Modified  \n",
       "\n",
       "[5 rows x 37 columns]"
      ]
     },
     "execution_count": 19,
     "metadata": {},
     "output_type": "execute_result"
    }
   ],
   "source": [
    "#Display basic info\n",
    "df.head()"
   ]
  },
  {
   "cell_type": "markdown",
   "id": "db63ab63-58f9-4376-8b0a-ed7cec0a87c7",
   "metadata": {},
   "source": [
    "***Handle the Missing Values***"
   ]
  },
  {
   "cell_type": "code",
   "execution_count": 27,
   "id": "3208acad-2bf6-45cc-b722-c8c68e027dee",
   "metadata": {},
   "outputs": [
    {
     "name": "stdout",
     "output_type": "stream",
     "text": [
      "Lead Quality                                     51.590909\n",
      "Asymmetrique Profile Score                       45.649351\n",
      "Asymmetrique Activity Score                      45.649351\n",
      "Asymmetrique Profile Index                       45.649351\n",
      "Asymmetrique Activity Index                      45.649351\n",
      "Tags                                             36.287879\n",
      "Lead Profile                                     29.318182\n",
      "What matters most to you in choosing a course    29.318182\n",
      "What is your current occupation                  29.112554\n",
      "Country                                          26.634199\n",
      "How did you hear about X Education               23.885281\n",
      "Specialization                                   15.562771\n",
      "City                                             15.367965\n",
      "TotalVisits                                       1.482684\n",
      "Page Views Per Visit                              1.482684\n",
      "Last Activity                                     1.114719\n",
      "Lead Source                                       0.389610\n",
      "dtype: float64\n"
     ]
    }
   ],
   "source": [
    "#Check for missing Values\n",
    "missing_values= df.isnull().sum()/len(df)*100\n",
    "missing_values= missing_values[missing_values>0].sort_values(ascending=False)\n",
    "print(missing_values)"
   ]
  },
  {
   "cell_type": "code",
   "execution_count": 29,
   "id": "e413b44a-1bf1-4385-a4b9-e7e0a11b9456",
   "metadata": {},
   "outputs": [],
   "source": [
    "# Drop columns with more than 40% missing values\n",
    "df = df.drop(columns=['Lead Quality', 'Asymmetrique Profile Score', \n",
    "                      'Asymmetrique Activity Score', 'Asymmetrique Profile Index', \n",
    "                      'Asymmetrique Activity Index'], axis=1)"
   ]
  },
  {
   "cell_type": "code",
   "execution_count": 35,
   "id": "ddd48890-1566-4352-844c-5c368e7ca47c",
   "metadata": {},
   "outputs": [
    {
     "name": "stdout",
     "output_type": "stream",
     "text": [
      "139\n"
     ]
    }
   ],
   "source": [
    "# Fill categorical missing values with \"Unknown\"\n",
    "categorical_cols = ['Tags', 'Lead Profile', 'What matters most to you in choosing a course', \n",
    "                    'What is your current occupation', 'Country', \n",
    "                    'How did you hear about X Education', 'Specialization', 'City']\n",
    "for col in categorical_cols:\n",
    "    df[categorical_cols] = df[categorical_cols].fillna(\"Unknown\")\n",
    "\n",
    "\n",
    "# Fill numerical missing values with median\n",
    "numerical_cols = ['TotalVisits', 'Page Views Per Visit']\n",
    "for col in numerical_cols:\n",
    "    df[numerical_cols] = df[numerical_cols].fillna(df[numerical_cols].median())\n",
    "\n",
    "\n",
    "# Check if any missing values remain\n",
    "print(df.isnull().sum().sum())  # Should be 0 if all missing values are handled correctly\n"
   ]
  },
  {
   "cell_type": "markdown",
   "id": "7cef2e2e-5dcd-4fd6-a39e-d378991581d5",
   "metadata": {},
   "source": [
    "***Encoding Categorical Variables***"
   ]
  },
  {
   "cell_type": "code",
   "execution_count": 38,
   "id": "de6f4536-82ab-4b14-b484-9ccb76ffd09f",
   "metadata": {},
   "outputs": [
    {
     "name": "stdout",
     "output_type": "stream",
     "text": [
      "<class 'pandas.core.frame.DataFrame'>\n",
      "RangeIndex: 9240 entries, 0 to 9239\n",
      "Columns: 183 entries, Do Not Email to Last Notable Activity_View in browser link Clicked\n",
      "dtypes: bool(177), float64(2), int64(4)\n",
      "memory usage: 2.0 MB\n",
      "None\n"
     ]
    }
   ],
   "source": [
    "from sklearn.preprocessing import LabelEncoder\n",
    "\n",
    "# Convert 'Do Not Email' and 'Do Not Call' into binary (0 or 1)\n",
    "df['Do Not Email'] = df['Do Not Email'].map({'Yes': 1, 'No': 0})\n",
    "df['Do Not Call'] = df['Do Not Call'].map({'Yes': 1, 'No': 0})\n",
    "\n",
    "# Drop ID columns as they are not useful for prediction\n",
    "df = df.drop(columns=['Prospect ID', 'Lead Number'])\n",
    "\n",
    "# Perform One-Hot Encoding on categorical columns\n",
    "df = pd.get_dummies(df, drop_first=True)\n",
    "\n",
    "# Display updated dataset info\n",
    "print(df.info())\n"
   ]
  },
  {
   "cell_type": "markdown",
   "id": "7c3cdbad-993d-408c-b347-42febf31f4c4",
   "metadata": {},
   "source": [
    "***Define Target Features***"
   ]
  },
  {
   "cell_type": "code",
   "execution_count": 41,
   "id": "600b5d1a-780d-41ad-84ed-7e4f5baedc18",
   "metadata": {},
   "outputs": [
    {
     "name": "stdout",
     "output_type": "stream",
     "text": [
      "Feature Matrix Shape: (9240, 182)\n",
      "Target Variable Shape: (9240,)\n"
     ]
    }
   ],
   "source": [
    "# Define target variable\n",
    "y = df['Converted']\n",
    "\n",
    "# Drop the target column from features\n",
    "X = df.drop(columns=['Converted'])\n",
    "\n",
    "# Print shapes of feature and target datasets\n",
    "print(\"Feature Matrix Shape:\", X.shape)\n",
    "print(\"Target Variable Shape:\", y.shape)\n"
   ]
  },
  {
   "cell_type": "markdown",
   "id": "7c2c4f17-0f5d-4c0d-a263-c0614373632d",
   "metadata": {},
   "source": [
    "***Split Data into Training and Test Sets***"
   ]
  },
  {
   "cell_type": "code",
   "execution_count": 44,
   "id": "2323d3c0-5f36-4783-9901-e1672cca37c4",
   "metadata": {},
   "outputs": [
    {
     "name": "stdout",
     "output_type": "stream",
     "text": [
      "Training Data Shape: (7392, 182)\n",
      "Test Data Shape: (1848, 182)\n"
     ]
    }
   ],
   "source": [
    "from sklearn.model_selection import train_test_split\n",
    "\n",
    "# Split the dataset\n",
    "X_train, X_test, y_train, y_test = train_test_split(X, y, test_size=0.2, random_state=42, stratify=y)\n",
    "\n",
    "# Print shapes\n",
    "print(\"Training Data Shape:\", X_train.shape)\n",
    "print(\"Test Data Shape:\", X_test.shape)"
   ]
  },
  {
   "cell_type": "markdown",
   "id": "99386fbc-ad57-4b27-bdd0-7c8db75ae000",
   "metadata": {},
   "source": [
    "***Feature Scaling***"
   ]
  },
  {
   "cell_type": "code",
   "execution_count": 47,
   "id": "874b7237-d81f-40d2-a007-98b16cff3d58",
   "metadata": {},
   "outputs": [],
   "source": [
    "from sklearn.preprocessing import StandardScaler\n",
    "\n",
    "# Initialize scaler\n",
    "scaler = StandardScaler()\n",
    "\n",
    "# Fit and transform on training data, transform on test data\n",
    "X_train_scaled = scaler.fit_transform(X_train)\n",
    "X_test_scaled = scaler.transform(X_test)"
   ]
  },
  {
   "cell_type": "markdown",
   "id": "688128cb-1f9e-46b9-8fe1-00987b496be0",
   "metadata": {},
   "source": [
    "***Train Logistic Regression Model***"
   ]
  },
  {
   "cell_type": "code",
   "execution_count": 50,
   "id": "7033de7a-bc87-472e-ab83-46863fb78a26",
   "metadata": {},
   "outputs": [
    {
     "name": "stdout",
     "output_type": "stream",
     "text": [
      "Model Coefficients:\n",
      " [[-3.49112608e-01  6.13661732e-02  1.35875469e-01  1.15166372e+00\n",
      "  -7.30780051e-02 -1.98505361e-01  1.84651627e-01  3.24322631e-02\n",
      "   6.85368662e-02 -2.58880744e-02 -1.98525556e-01 -3.34479505e-02\n",
      "   2.72957648e-02  0.00000000e+00 -5.05981930e-02  4.76746109e-02\n",
      "   0.00000000e+00 -4.72114807e-02 -3.51470463e-01 -2.11108801e-02\n",
      "   0.00000000e+00  3.38045825e-02  2.46674006e-01  1.51071431e-02\n",
      "   0.00000000e+00 -1.32081646e-01 -3.40156618e-02 -6.03312446e-02\n",
      "   0.00000000e+00 -2.13943895e-01 -4.10717108e-01  7.03155156e-02\n",
      "   0.00000000e+00 -1.03963411e-01  2.66298530e-02 -1.23154324e-02\n",
      "  -1.30130033e-01 -3.01599615e-01 -1.49559385e-01  4.48330278e-02\n",
      "   5.71681364e-01 -2.80964846e-03  1.54875258e-02  3.15443603e-02\n",
      "  -1.31217294e-02 -8.23720940e-02 -2.59487262e-02 -4.51545859e-02\n",
      "  -7.33851554e-02 -8.75450417e-02 -7.59718993e-02  2.13763102e-02\n",
      "  -5.57558394e-02  8.16765267e-02 -8.20265918e-02  9.06484629e-02\n",
      "  -2.28038823e-01 -4.19416508e-02 -6.16060690e-02 -2.75316481e-02\n",
      "  -8.43118705e-02  0.00000000e+00 -1.44870211e-02 -7.47801785e-02\n",
      "  -6.83723879e-02  1.52747952e-02 -3.68780896e-02  1.19746056e-02\n",
      "  -8.76818815e-02 -9.43451177e-02 -3.89267271e-03 -4.25301940e-02\n",
      "  -2.44261437e-02 -5.58966279e-02 -6.59126261e-02  0.00000000e+00\n",
      "  -7.22986750e-02  1.69108952e-02  2.53677627e-02  3.41614514e-02\n",
      "   2.77673833e-01 -4.07377820e-02  1.87628967e-02  7.93754316e-03\n",
      "  -8.28153552e-02  1.29096789e-02 -2.04505227e-02  2.63589400e-02\n",
      "  -1.02958584e-01 -1.02426130e-01 -2.24676066e-02  1.43576607e-03\n",
      "   4.82908094e-02 -7.21027804e-02 -4.86952746e-02 -6.90863244e-02\n",
      "  -5.84906312e-03 -1.08539637e-01  2.33122006e-02 -9.49431401e-02\n",
      "  -1.28074549e-01 -6.30769417e-01  1.93370378e-02 -1.66041644e-01\n",
      "  -1.18004640e-01 -1.12726819e-01 -2.45610887e-02 -1.95101024e-01\n",
      "  -3.01004589e-02 -1.04325911e-02  5.22803887e-02 -5.49685667e-02\n",
      "   1.57310331e-01  2.20810926e-03  1.32079021e-01  2.36517819e-01\n",
      "  -2.01281031e-01  2.29706925e-01 -2.11021760e-02  0.00000000e+00\n",
      "  -4.61958251e-01  3.81094031e-02 -4.92872644e-02 -4.92872644e-02\n",
      "  -5.87383653e-02 -2.02828992e-02  6.47729974e-02  3.44483342e-01\n",
      "   1.84432360e+00 -5.91874113e-02  1.43175832e-01  8.12920484e-02\n",
      "  -1.48083506e-01  1.99399064e-01 -2.59055143e-02  1.51444883e-01\n",
      "   1.28632968e+00 -1.86719091e-01 -1.06082898e-01 -7.33945475e-02\n",
      "  -4.44401759e-01  4.58660810e-02  2.15119925e-02 -8.81441956e-02\n",
      "   1.98200368e+00  3.20240179e-02  2.72066424e+00  7.72973160e-02\n",
      "  -1.78090696e-01 -4.83635303e-01  2.96003896e-03 -4.00445287e-01\n",
      "  -4.74334443e-01  1.61466353e-01  1.99785215e-01  2.43396676e-01\n",
      "  -2.18145464e-02 -3.36360528e-01 -4.61958251e-01  1.88607831e-02\n",
      "   3.82687009e-03 -2.31775429e-02 -8.34498049e-02 -2.88496767e-02\n",
      "   8.66522710e-02  3.70145979e-01 -1.85797675e-01  1.95801080e-01\n",
      "  -1.78171255e-01  0.00000000e+00  4.27015185e-02  2.66298530e-02\n",
      "  -5.72061241e-02  4.14816158e-01 -4.52145377e-01 -1.35193725e-01\n",
      "  -2.98374786e-02  4.48330278e-02  4.42961470e-01  1.84221129e-02\n",
      "   7.87071829e-02  0.00000000e+00]]\n"
     ]
    }
   ],
   "source": [
    "from sklearn.linear_model import LogisticRegression\n",
    "\n",
    "# Initialize and train the logistic regression model\n",
    "log_reg = LogisticRegression(max_iter=1000, random_state=42)\n",
    "log_reg.fit(X_train_scaled, y_train)\n",
    "\n",
    "# Print model coefficients\n",
    "print(\"Model Coefficients:\\n\", log_reg.coef_)"
   ]
  },
  {
   "cell_type": "markdown",
   "id": "61c62643-3f79-4607-a682-197cb3d0b575",
   "metadata": {},
   "source": [
    "***Model Evaluation***"
   ]
  },
  {
   "cell_type": "code",
   "execution_count": 53,
   "id": "496208e3-6de9-4779-8090-85fbd162c335",
   "metadata": {},
   "outputs": [
    {
     "name": "stdout",
     "output_type": "stream",
     "text": [
      "Accuracy Score: 0.9291125541125541\n",
      "\n",
      "Confusion Matrix:\n",
      " [[1080   56]\n",
      " [  75  637]]\n",
      "\n",
      "Classification Report:\n",
      "               precision    recall  f1-score   support\n",
      "\n",
      "           0       0.94      0.95      0.94      1136\n",
      "           1       0.92      0.89      0.91       712\n",
      "\n",
      "    accuracy                           0.93      1848\n",
      "   macro avg       0.93      0.92      0.92      1848\n",
      "weighted avg       0.93      0.93      0.93      1848\n",
      "\n"
     ]
    }
   ],
   "source": [
    "from sklearn.metrics import accuracy_score, confusion_matrix, classification_report\n",
    "\n",
    "# Predict on test data\n",
    "y_pred = log_reg.predict(X_test_scaled)\n",
    "\n",
    "# Model evaluation\n",
    "print(\"Accuracy Score:\", accuracy_score(y_test, y_pred))\n",
    "print(\"\\nConfusion Matrix:\\n\", confusion_matrix(y_test, y_pred))\n",
    "print(\"\\nClassification Report:\\n\", classification_report(y_test, y_pred))\n"
   ]
  },
  {
   "cell_type": "markdown",
   "id": "6843bc87-93ed-4589-a570-4d8508ce2fa1",
   "metadata": {},
   "source": [
    "***Generate Lead Scores***"
   ]
  },
  {
   "cell_type": "code",
   "execution_count": 56,
   "id": "b927b113-79a6-4e4c-b5e8-3655215a93b1",
   "metadata": {},
   "outputs": [
    {
     "name": "stdout",
     "output_type": "stream",
     "text": [
      "      Lead Score  Converted\n",
      "683    20.527752          1\n",
      "1931   97.917132          1\n",
      "6950    3.345244          0\n",
      "2996    0.075167          0\n",
      "3902    0.094800          0\n"
     ]
    }
   ],
   "source": [
    "# Generate lead scores (probability of conversion)\n",
    "lead_scores = log_reg.predict_proba(X_test_scaled)[:, 1] * 100  # Convert to 0-100 scale\n",
    "\n",
    "# Add lead scores to the test dataset\n",
    "test_results = X_test.copy()\n",
    "test_results['Converted'] = y_test\n",
    "test_results['Lead Score'] = lead_scores\n",
    "\n",
    "# Display the first few rows\n",
    "print(test_results[['Lead Score', 'Converted']].head())"
   ]
  },
  {
   "cell_type": "markdown",
   "id": "64e7094c-7a28-4c62-998e-97147c34f901",
   "metadata": {},
   "source": [
    "***Analyze Lead Score Distribution***"
   ]
  },
  {
   "cell_type": "code",
   "execution_count": 59,
   "id": "74f81f89-088d-4d22-b10e-6af9a125d80a",
   "metadata": {},
   "outputs": [
    {
     "data": {
      "image/png": "[encoded data removed]",
      "text/plain": [
       "<Figure size 1000x500 with 1 Axes>"
      ]
     },
     "metadata": {},
     "output_type": "display_data"
    }
   ],
   "source": [
    "# Plot the distribution of lead scores for converted and non-converted leads\n",
    "plt.figure(figsize=(10,5))\n",
    "sns.histplot(test_results[test_results['Converted'] == 1]['Lead Score'], bins=30, color='green', label='Converted', kde=True)\n",
    "sns.histplot(test_results[test_results['Converted'] == 0]['Lead Score'], bins=30, color='red', label='Not Converted', kde=True)\n",
    "plt.xlabel(\"Lead Score\")\n",
    "plt.ylabel(\"Frequency\")\n",
    "plt.title(\"Lead Score Distribution for Converted and Not Converted Leads\")\n",
    "plt.legend()\n",
    "plt.show()"
   ]
  },
  {
   "cell_type": "markdown",
   "id": "da4e8199-9787-4387-b40d-65b2933b9c54",
   "metadata": {},
   "source": [
    "***Optimize Model Performance***"
   ]
  },
  {
   "cell_type": "code",
   "execution_count": 62,
   "id": "4c40749e-2f85-4d7e-8dce-036a6b4c0c06",
   "metadata": {},
   "outputs": [
    {
     "data": {
      "image/png": "[encoded data removed]",
      "text/plain": [
       "<Figure size 1000x500 with 1 Axes>"
      ]
     },
     "metadata": {},
     "output_type": "display_data"
    }
   ],
   "source": [
    "from sklearn.metrics import precision_recall_curve\n",
    "\n",
    "# Calculate precision and recall for various thresholds\n",
    "precisions, recalls, thresholds = precision_recall_curve(y_test, lead_scores / 100)\n",
    "\n",
    "# Plot Precision-Recall curve\n",
    "plt.figure(figsize=(10,5))\n",
    "plt.plot(thresholds, precisions[:-1], label=\"Precision\", color='blue')\n",
    "plt.plot(thresholds, recalls[:-1], label=\"Recall\", color='red')\n",
    "plt.xlabel(\"Threshold\")\n",
    "plt.ylabel(\"Precision/Recall\")\n",
    "plt.title(\"Precision-Recall Tradeoff\")\n",
    "plt.legend()\n",
    "plt.show()\n"
   ]
  },
  {
   "cell_type": "code",
   "execution_count": 64,
   "id": "cdbb67db-75a7-49de-a54a-672add54f8b5",
   "metadata": {},
   "outputs": [
    {
     "name": "stdout",
     "output_type": "stream",
     "text": [
      "Confusion Matrix after Threshold Adjustment:\n",
      " [[1048   88]\n",
      " [  50  662]]\n"
     ]
    }
   ],
   "source": [
    "# Set a custom threshold (e.g., 30 instead of 50)\n",
    "threshold = 30  # Adjust this based on the Precision-Recall tradeoff\n",
    "\n",
    "# Classify leads based on new threshold\n",
    "test_results['Predicted Conversion'] = (test_results['Lead Score'] > threshold).astype(int)\n",
    "\n",
    "# Evaluate new classification\n",
    "from sklearn.metrics import confusion_matrix\n",
    "\n",
    "print(\"Confusion Matrix after Threshold Adjustment:\\n\", confusion_matrix(y_test, test_results['Predicted Conversion']))\n"
   ]
  },
  {
   "cell_type": "code",
   "execution_count": 66,
   "id": "084d039a-3b46-4310-b0ab-79565539f305",
   "metadata": {},
   "outputs": [
    {
     "name": "stdout",
     "output_type": "stream",
     "text": [
      "                                            Feature  Coefficient\n",
      "146        Tags_Will revert after reading the email     2.720664\n",
      "144                                    Tags_Unknown     1.982004\n",
      "128                         Tags_Closed by Horizzon     1.844324\n",
      "136                               Tags_Lost to EINS     1.286330\n",
      "3                       Total Time Spent on Website     1.151664\n",
      "40                           Last Activity_SMS Sent     0.571681\n",
      "178                  Last Notable Activity_SMS Sent     0.442961\n",
      "173  Last Notable Activity_Had a Phone Conversation     0.414816\n",
      "165                                    City_Unknown     0.370146\n",
      "127                                       Tags_Busy     0.344483\n",
      "                                               Feature  Coefficient\n",
      "18                               Lead Source_Reference    -0.351470\n",
      "151                                  Tags_switched off    -0.400445\n",
      "30                         Last Activity_Email Bounced    -0.410717\n",
      "140                                       Tags_Ringing    -0.444402\n",
      "174                     Last Notable Activity_Modified    -0.452145\n",
      "158                               Lead Profile_Unknown    -0.461958\n",
      "120  What matters most to you in choosing a course_...    -0.461958\n",
      "152                            Tags_wrong number given    -0.474334\n",
      "149                           Tags_number not provided    -0.483635\n",
      "101                             Specialization_Unknown    -0.630769\n"
     ]
    }
   ],
   "source": [
    "# Get feature importance from logistic regression model\n",
    "feature_importance = pd.DataFrame({'Feature': X_train.columns, 'Coefficient': log_reg.coef_[0]})\n",
    "feature_importance = feature_importance.sort_values(by='Coefficient', ascending=False)\n",
    "\n",
    "# Display top features\n",
    "print(feature_importance.head(10))  # Top positive features\n",
    "print(feature_importance.tail(10))  # Top negative features\n"
   ]
  },
  {
   "cell_type": "code",
   "execution_count": 68,
   "id": "f65ef22f-fbd4-43dd-a92d-7844c25438c0",
   "metadata": {},
   "outputs": [
    {
     "name": "stdout",
     "output_type": "stream",
     "text": [
      "Average Lead Score for Converted Leads: 86.68281390031721\n",
      "Average Lead Score for Non-Converted Leads: 8.200185188741667\n"
     ]
    }
   ],
   "source": [
    "# Compare mean lead scores for converted and non-converted leads\n",
    "print(\"Average Lead Score for Converted Leads:\", test_results[test_results['Converted'] == 1]['Lead Score'].mean())\n",
    "print(\"Average Lead Score for Non-Converted Leads:\", test_results[test_results['Converted'] == 0]['Lead Score'].mean())"
   ]
  },
  {
   "cell_type": "code",
   "execution_count": null,
   "id": "c5219f67-95c9-418c-84bd-44dfe0185026",
   "metadata": {},
   "outputs": [],
   "source": []
  }
 ],
 "metadata": {
  "kernelspec": {
   "display_name": "Python [conda env:base] *",
   "language": "python",
   "name": "conda-base-py"
  },
  "language_info": {
   "codemirror_mode": {
    "name": "ipython",
    "version": 3
   },
   "file_extension": ".py",
   "mimetype": "text/x-python",
   "name": "python",
   "nbconvert_exporter": "python",
   "pygments_lexer": "ipython3",
   "version": "3.12.7"
  }
 },
 "nbformat": 4,
 "nbformat_minor": 5
}
